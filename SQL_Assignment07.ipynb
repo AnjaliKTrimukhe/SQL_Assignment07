{
 "cells": [
  {
   "cell_type": "markdown",
   "id": "b15e3a51",
   "metadata": {},
   "source": [
    "Q-13. Write an SQL query to show only odd rows from a table.\n",
    "Ans:\n",
    "SELECT *\n",
    "FROM Worker\n",
    "WHERE MOD (WORKER_ID, 2) <> 0;"
   ]
  },
  {
   "cell_type": "markdown",
   "id": "dc24ca6c",
   "metadata": {},
   "source": [
    "Q-14. Write an SQL query to clone a new table from another table.\n",
    "Ans:\n",
    "CREATE TABLE employee_clone\n",
    "LIKE employee;\n",
    "INSERT INTO employee_clone\n",
    "SELECT *\n",
    "FROM employee;"
   ]
  }
 ],
 "metadata": {
  "kernelspec": {
   "display_name": "Python 3 (ipykernel)",
   "language": "python",
   "name": "python3"
  },
  "language_info": {
   "codemirror_mode": {
    "name": "ipython",
    "version": 3
   },
   "file_extension": ".py",
   "mimetype": "text/x-python",
   "name": "python",
   "nbconvert_exporter": "python",
   "pygments_lexer": "ipython3",
   "version": "3.9.7"
  }
 },
 "nbformat": 4,
 "nbformat_minor": 5
}
